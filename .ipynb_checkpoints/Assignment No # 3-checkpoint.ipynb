{
 "cells": [
  {
   "cell_type": "markdown",
   "metadata": {},
   "source": [
    "# Ex:1\n",
    "\n",
    "Make a dictionary three major rivers and the                                      \n",
    "country each river runs through. One Key-value pair might                                     \n",
    "be 'nile':'egypt'.                                                                \n",
    "\n",
    "Use a loop to print a sentence about each river, such as The Nile runs through Egypt.                               \n",
    "Use a loop to print the name of each river included in the dictionary.                                        \n",
    "Use a loop to print the name of each country included in the dictionary.                                       \n",
    "                         \n",
    "# OUTPUT :                                          \n",
    "Nile runs through Egypt .                                                 \n",
    ". River - Nile                                                         \n",
    ". Location - Egypt                                                         \n",
    "Amazon runs through South America                                                \n",
    ". River - Amazon                                                    \n",
    ". Location - South America                                                 "
   ]
  },
  {
   "cell_type": "code",
   "execution_count": 1,
   "metadata": {},
   "outputs": [
    {
     "name": "stdout",
     "output_type": "stream",
     "text": [
      "Nile, runs through, Egypt, \n",
      "River -, Nile, \n",
      "Location -, Egypt, \n",
      "Amazon, runs through, South America, \n",
      "River -, Amazon, \n",
      "Location -, South America, \n",
      "Niger, runs through, West Africa, \n",
      "River -, Niger, \n",
      "Location -, West Africa, \n"
     ]
    }
   ],
   "source": [
    "dictionary = {\n",
    "    \"Nile\" : \"Egypt\",\n",
    "    \"Amazon\" : \"South America\",\n",
    "    \"Niger\" : \"West Africa\",\n",
    "       }\n",
    "for key,value in dictionary.items():\n",
    "    \n",
    "    print (f\"{key}, runs through, {value}, \")\n",
    "    \n",
    "    print (f\"River -, {key}, \")\n",
    "    \n",
    "    print (f\"Location -, {value}, \")"
   ]
  },
  {
   "cell_type": "markdown",
   "metadata": {},
   "source": [
    "# Ex : 2a\n",
    "\n",
    "Use a dictionary to store information about a person you know.Store their \"FIRST NAME\", \"LAST NAME\", \"AGE\", and the \"CITY\" in    which they live. You should have keys such as \"FIRST_NAME\", \"LAST_NAME\", \"AGE\", and \"CITY\". Print each piece of information   stored in your dictionary.                    "
   ]
  },
  {
   "cell_type": "code",
   "execution_count": 2,
   "metadata": {},
   "outputs": [
    {
     "name": "stdout",
     "output_type": "stream",
     "text": [
      "First_name, :, Ebad\n",
      "Last_name, :, Ali\n",
      "Age, :, 16\n",
      "City, :, Karachi\n"
     ]
    }
   ],
   "source": [
    "bio = {\n",
    "    \"First_name\" : \"Ebad\",\n",
    "    \"Last_name\" : \"Ali\",\n",
    "    \"Age\" : 16 ,\n",
    "    \"City\" : \"Karachi\"\n",
    "    }\n",
    "\n",
    "for key,value in bio.items():\n",
    "    \n",
    "    print (f\"{key}, :, {value}\") "
   ]
  },
  {
   "cell_type": "markdown",
   "metadata": {},
   "source": [
    "# Ex : 2b\n",
    "\n",
    "Start with the program you wrote for Exercise 2a.Make two new dictionaries representing different people, and store all three dictionaries in a list called people. Loop through your list of people. As you loop through the list, print everything you know about each person. "
   ]
  },
  {
   "cell_type": "code",
   "execution_count": 3,
   "metadata": {},
   "outputs": [
    {
     "name": "stdout",
     "output_type": "stream",
     "text": [
      "{'First_name': 'Ebad', 'Last_name': 'Ali', 'Age': 16, 'City': 'Karachi'}\n",
      "{'First_name': 'Azeem', 'Last_name': 'Naseer', 'Age': 26, 'City': 'Karachi'}\n",
      "{'First_name': 'Abdullah', 'Last_name': 'Khan', 'Age': 16, 'City': 'Karachi'}\n"
     ]
    }
   ],
   "source": [
    "people = [{\"First_name\" : \"Ebad\",\n",
    "           \"Last_name\" : \"Ali\",\n",
    "           \"Age\" : 16,\n",
    "           \"City\" : \"Karachi\"},\n",
    "          {\"First_name\" : \"Azeem\",\n",
    "           \"Last_name\" : \"Naseer\",\n",
    "           \"Age\" : 26, \"City\" : \"Karachi\"},\n",
    "          \n",
    "          {\"First_name\" : \"Abdullah\",\n",
    "           \"Last_name\" : \"Khan\",\n",
    "           \"Age\" : 16, \"City\" : \"Karachi\"}]\n",
    "\n",
    "for keys in people:\n",
    "    print (f\"{keys}\")"
   ]
  },
  {
   "cell_type": "markdown",
   "metadata": {},
   "source": [
    "# Ex : 3\n",
    "\n",
    "\n",
    "Make a dictionary called cities. Use the names of three cities as keys in your dictionary. Create a dictionary of information about each city and include the country that the city is in, its approximate population, and one fact about that city. The keys for each city’s dictionary should be something like country, population, and fact. Print the name of each city and all of the information you have stored about it.\n"
   ]
  },
  {
   "cell_type": "code",
   "execution_count": 4,
   "metadata": {},
   "outputs": [
    {
     "name": "stdout",
     "output_type": "stream",
     "text": [
      "Name of the City is, Karachi, :, {'Country': 'Pakistan', 'Population': 18.11, 'Fact': 'The City of light'}\n",
      "Name of the City is, Islamabad, :, {'Country': ' Pakistan', 'Population': 6.76, 'Fact': ' The Capital of Pakistan.'}\n",
      "Name of the City is, Delhi, :, {'Country': 'India', 'Population': 18.6, 'Fact': 'The Capital of India.'}\n"
     ]
    }
   ],
   "source": [
    "cities = {\"Karachi\" : { \"Country\" : \"Pakistan\" ,\n",
    "                       \"Population\" : 18.11 ,\n",
    "                       \"Fact\" : \"The City of light\"},\n",
    "                       \"Islamabad\" : { \"Country\" : \" Pakistan\",\n",
    "                       \"Population\" : 6.76 ,\n",
    "                       \"Fact\" : \" The Capital of Pakistan.\"},\n",
    "                       \"Delhi\" : { \"Country\" : \"India\",\n",
    "                       \"Population\" : 18.6,\n",
    "                       \"Fact\" : \"The Capital of India.\"}}\n",
    "for keys,values in cities.items():\n",
    "    print(f\"Name of the City is, {keys}, :, {values}\") "
   ]
  },
  {
   "cell_type": "markdown",
   "metadata": {},
   "source": [
    "# Ex : 4\n",
    "\n",
    "Write a Python script to concatenate following dictionaries to create a new one. Go to the editor                          \n",
    "\n",
    "# OUTPUT\n",
    "\n",
    "Sample Dictionary :                                \n",
    "                        \n",
    "dic1={1:10, 2:20}                                          \n",
    "dic2={3:30, 4:40}                                 \n",
    "dic3={5:50,6:60}                                         \n",
    "Expected Result : {1: 10, 2: 20, 3: 30, 4: 40, 5: 50, 6: 60}              "
   ]
  },
  {
   "cell_type": "code",
   "execution_count": 6,
   "metadata": {},
   "outputs": [
    {
     "name": "stdout",
     "output_type": "stream",
     "text": [
      "Dictionary :\n",
      "dict_1 =  {1: 10, 2: 20}\n",
      "dict_2 =  {3: 30, 4: 40}\n",
      "dict_3 =  {5: 50, 6: 60}\n",
      "Result :  {1: 10, 2: 20, 3: 30, 4: 40, 5: 50, 6: 60}\n"
     ]
    }
   ],
   "source": [
    "dict_1 = {\n",
    "    1 : 10,\n",
    "    2 : 20,\n",
    "    }\n",
    "dict_2 = {\n",
    "    3 : 30,\n",
    "    4 : 40,\n",
    "    }\n",
    "dict_3 = {\n",
    "    5 : 50,\n",
    "    6 : 60,\n",
    "    }\n",
    "\n",
    "print (f\"Dictionary :\")\n",
    "\n",
    "print (f\"dict_1 =  {dict_1}\")\n",
    "\n",
    "print (f\"dict_2 =  {dict_2}\")\n",
    "\n",
    "print (f\"dict_3 =  {dict_3}\")\n",
    "\n",
    "dict_1.update (dict_2)\n",
    "\n",
    "dict_1.update (dict_3)\n",
    "\n",
    "print(f\"Result :  {dict_1}\")"
   ]
  },
  {
   "cell_type": "markdown",
   "metadata": {},
   "source": [
    "# Ex : 5\n",
    "\n",
    "Write a Python program to create a dictionary from a string. Note: Track the count of the letters from the string.\n",
    "\n",
    "# OUTPUT\n",
    "\n",
    "#Sample string : \" Dictionaries \"\n",
    "\n",
    "Expected output : { \" D \" : 1 , \" i \" : 3 , \" c \" : 1 , \" t \" : 1 , \" o \" : 1 , \" n \" : 1 , \" a \" : 1 , \" r \" : 1 , \" e \" : 1 , \" s \" : 1} "
   ]
  },
  {
   "cell_type": "code",
   "execution_count": 7,
   "metadata": {},
   "outputs": [
    {
     "name": "stdout",
     "output_type": "stream",
     "text": [
      "Sample String :  Dictionaries \n",
      "Expected Output : {' ': 2, 'D': 1, 'i': 3, 'c': 1, 't': 1, 'o': 1, 'n': 1, 'a': 1, 'r': 1, 'e': 1, 's': 1} \n"
     ]
    }
   ],
   "source": [
    "D = \" Dictionaries \"\n",
    "\n",
    "print (f\"Sample String : {D}\")\n",
    "     \n",
    "dict = {} \n",
    "\n",
    "for V in D :\n",
    "    dict [ V ] = dict.get ( V , 0 ) + 1\n",
    "    \n",
    "print (f\"Expected Output : {dict} \")  "
   ]
  },
  {
   "cell_type": "markdown",
   "metadata": {},
   "source": [
    "# Ex : 6\n",
    "\n",
    "Write a Python program to create a dictionary of keys x, y, and z where each key has as value a list from 11-20, 21-30, and 31- 40 respectively. Access the fifth value of each key from the dictionary.                        \n",
    "\n",
    "# OUTPUT :                                                           \n",
    "{'x': [11, 12, 13, 14, 15, 16, 17, 18, 19],'y': [21, 22, 23, 24, 25, 26, 27, 28, 29],'z': [31, 32, 33, 34, 35, 36, 37, 38, 39]}\n",
    "\n",
    "15                                                         \n",
    "25                                       \n",
    "35                                                        \n",
    "x has value [11, 12, 13, 14, 15, 16, 17, 18, 19]                                \n",
    "y has value [21, 22, 23, 24, 25, 26, 27, 28, 29]                             \n",
    "z has value [31, 32, 33, 34, 35, 36, 37, 38, 39]                                      "
   ]
  },
  {
   "cell_type": "code",
   "execution_count": 8,
   "metadata": {},
   "outputs": [
    {
     "name": "stdout",
     "output_type": "stream",
     "text": [
      "{' X ': [11, 12, 13, 14, 15, 16, 17, 18, 19], ' Y ': [21, 22, 23, 24, 25, 26, 27, 28, 29], ' Z ': [31, 32, 33, 34, 35, 36, 37, 38, 39]}\n",
      "15\n",
      "25\n",
      "35\n",
      " X    has value   [11, 12, 13, 14, 15, 16, 17, 18, 19]\n",
      " Y    has value   [21, 22, 23, 24, 25, 26, 27, 28, 29]\n",
      " Z    has value   [31, 32, 33, 34, 35, 36, 37, 38, 39]\n"
     ]
    }
   ],
   "source": [
    "Value = {\" X \" :  [ 11 , 12 , 13 , 14 , 15 , 16 , 17 , 18 , 19 ] ,\n",
    "         \" Y \" :  [ 21 , 22 , 23 , 24 , 25 , 26 , 27 , 28 , 29 ] ,\n",
    "         \" Z \" :  [ 31 , 32 , 33 , 34 , 35 , 36 , 37 , 38 , 39 ] }\n",
    "\n",
    "print (Value)\n",
    "\n",
    "print ( Value [ \" X \" ][ 4 ])\n",
    "\n",
    "print ( Value [ \" Y \" ][ 4 ])\n",
    " \n",
    "print ( Value [ \" Z \" ][ 4 ])\n",
    "\n",
    "for keys,values in Value.items():\n",
    "\n",
    "    print(f\"{keys}   has value   {values}\")"
   ]
  },
  {
   "cell_type": "markdown",
   "metadata": {},
   "source": [
    "# Ex : 7a\n",
    "Create a new dictionary called prices              \n",
    "                             \n",
    "Put these values in your prices dictionary: \"banana\": 4, \"apple\": 2, \"orange\": 1.5, \"pear\": 3                                   \n",
    "Loop through each key in prices. For each key, print out the key along with its price                                         \n",
    "Check whether the topping is in the list . If yes , Recall the order else ask for another one .                                              \n",
    "                          \n",
    "# OUTPUT :                     \n",
    "                         \n",
    "# Banana                              \n",
    " \n",
    " price : 4      \n",
    "\n",
    "# Apple                                \n",
    " \n",
    " price: 2      "
   ]
  },
  {
   "cell_type": "code",
   "execution_count": 9,
   "metadata": {},
   "outputs": [
    {
     "name": "stdout",
     "output_type": "stream",
     "text": [
      " Banana  price  : 4\n",
      " Apple  price  : 2\n",
      " Orange  price  : 1.5\n",
      " pear  price  : 3\n"
     ]
    }
   ],
   "source": [
    "Prices = {\n",
    "    \" Banana \" : 4 ,\n",
    "    \" Apple \" : 2 ,\n",
    "    \" Orange \" : 1.5 ,\n",
    "    \" pear \" : 3 , \n",
    "    }\n",
    "for keys,value in Prices.items():\n",
    "    print(f\"{keys} price  : {value}\")"
   ]
  },
  {
   "cell_type": "markdown",
   "metadata": {},
   "source": [
    "# Ex : 7b\n",
    "\n",
    "Let's determine how much money you would make if you sold all of your food.                                                 \n",
    "                                                             \n",
    "Create a variable called total and set it to zero.                                                                             \n",
    "Loop through the prices dictionaries.For each key in prices, multiply the number in prices by the number in stock.             \n",
    "Print that value into the console and then add it to total.                                                    \n",
    "Finally, outside your loop, print total.                                                                                 "
   ]
  },
  {
   "cell_type": "code",
   "execution_count": 10,
   "metadata": {},
   "outputs": [
    {
     "name": "stdout",
     "output_type": "stream",
     "text": [
      "banana\n",
      "Price: 4\n",
      "In Stock: 16\n",
      "apple\n",
      "Price: 2\n",
      "In Stock: 4\n",
      "orange\n",
      "Price: 1.5\n",
      "In Stock: 48\n",
      "pear\n",
      "Price: 3\n",
      "In Stock: 45\n",
      "Total  :  279.0\n"
     ]
    }
   ],
   "source": [
    "total = 0\n",
    "price = {\"banana\": 4, \"apple\": 2, \"orange\": 1.5, \"pear\": 3}\n",
    "stock = { \"banana\" : 16, \"apple\" : 4, \"orange\" : 48, \"pear\" : 45}\n",
    "\n",
    "for v in price.keys():\n",
    "    \n",
    "    print (v)\n",
    "    \n",
    "    print (\"Price:\" , price[v])\n",
    "    \n",
    "    print (\"In Stock:\", stock[v])\n",
    "    \n",
    "    total = price[v]*stock[v] + total\n",
    "    \n",
    "print (f\"Total  :  {total}\")"
   ]
  },
  {
   "cell_type": "markdown",
   "metadata": {},
   "source": [
    "# Ex : 8 (OPTIONAL)\n",
    "\n",
    "Try to solve this exercise by yourself first.Otherwise we'll solve this in the class                                                      \n",
    "\n",
    "Count the number of occurrence of each letter in word \"MISSISSIPPI\". Store count of every letter with the letter in a             dictionary.                "
   ]
  },
  {
   "cell_type": "code",
   "execution_count": 11,
   "metadata": {},
   "outputs": [
    {
     "name": "stdout",
     "output_type": "stream",
     "text": [
      "String  : MISSISSIPPI\n",
      "Output  : {'M': 1, 'I': 4, 'S': 4, 'P': 2}\n"
     ]
    }
   ],
   "source": [
    "words = \"MISSISSIPPI\"\n",
    "\n",
    "print(f\"String  : {words}\")\n",
    "\n",
    "dictionary = { }\n",
    "\n",
    "for W in words :\n",
    "    \n",
    "    dictionary [W] = dictionary.get(W , 0) + 1\n",
    "    \n",
    "print(f\"Output  : {dictionary}\")"
   ]
  },
  {
   "cell_type": "markdown",
   "metadata": {},
   "source": [
    "# Ex : 9\n",
    "\n",
    "Given a dictionary, the task is to filter all the negative values from given dictionary dict = {'a':1, 'b':-2, 'c':-3, 'd':7,\n",
    "'e':0}\n",
    "\n",
    "# OUTPUT :\n",
    "\n",
    "resultant dictionary : {'a': 1, 'd': 7, 'e': 0}"
   ]
  },
  {
   "cell_type": "code",
   "execution_count": 12,
   "metadata": {},
   "outputs": [
    {
     "name": "stdout",
     "output_type": "stream",
     "text": [
      "Dictionary  : {' a ': 1, ' d ': 7, ' e ': 0}\n"
     ]
    }
   ],
   "source": [
    "dictionary  = {\n",
    "    \" a \" : 1 ,\n",
    "    \" b \" : -2 ,\n",
    "    \" c \" : -3 ,\n",
    "    \" d \" : 7 ,\n",
    "    \" e \" : 0 ,\n",
    "    }\n",
    "\n",
    "del dictionary [\" b \"]\n",
    "\n",
    "del dictionary [\" c \"]\n",
    "print (f\"Dictionary  : {dictionary}\")"
   ]
  },
  {
   "cell_type": "markdown",
   "metadata": {},
   "source": [
    "# EX : 10\n",
    "\n",
    "Given a Dictionary. The task is to print the dictionary in the table format.\n",
    "\n",
    "# Input:\n",
    "\n",
    "{1: [“Samuel”, 21, ‘Data Structures’],2: [“Richie”, 20, ‘Machine Learning’],3: [“Lauren”, 21, ‘OOPS with java’],}\n",
    "\n",
    "# Output:\n",
    "\n"
   ]
  },
  {
   "cell_type": "code",
   "execution_count": 14,
   "metadata": {},
   "outputs": [
    {
     "name": "stdout",
     "output_type": "stream",
     "text": [
      "NAME       AGE        COURSE    \n",
      " Samuel    21          Data Structures \n",
      " Richie    20          Machine Learning \n",
      " Lauren    21          OOPS with java \n"
     ]
    }
   ],
   "source": [
    "dictionary = {\n",
    "    1 : [\" Samuel \" , 21 , \" Data Structures \"],\n",
    "    2 : [\" Richie \" , 20 , \" Machine Learning \"],\n",
    "    3 : [\" Lauren \" , 21 , \" OOPS with java \"],\n",
    "    }\n",
    "print (\"{:<10} {:<10} {:<10}\".format('NAME', 'AGE', 'COURSE')) \n",
    "\n",
    "for keys , value in dictionary.items(): \n",
    "    name, age, course = value\n",
    "    print (\"{:<10} {:<10} {:<10}\".format(name, age, course))"
   ]
  },
  {
   "cell_type": "code",
   "execution_count": null,
   "metadata": {},
   "outputs": [],
   "source": []
  }
 ],
 "metadata": {
  "kernelspec": {
   "display_name": "Python 3",
   "language": "python",
   "name": "python3"
  },
  "language_info": {
   "codemirror_mode": {
    "name": "ipython",
    "version": 3
   },
   "file_extension": ".py",
   "mimetype": "text/x-python",
   "name": "python",
   "nbconvert_exporter": "python",
   "pygments_lexer": "ipython3",
   "version": "3.7.4"
  }
 },
 "nbformat": 4,
 "nbformat_minor": 2
}
